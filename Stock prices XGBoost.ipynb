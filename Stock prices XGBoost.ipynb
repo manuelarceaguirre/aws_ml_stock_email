{
 "cells": [
  {
   "cell_type": "code",
   "execution_count": null,
   "id": "6a5e6470",
   "metadata": {},
   "outputs": [],
   "source": [
    "# Create a S3 Bucket\n",
    "# From the aws console or Boto3"
   ]
  },
  {
   "cell_type": "markdown",
   "id": "9cff48d5",
   "metadata": {},
   "source": [
    "# Create a bucket"
   ]
  },
  {
   "cell_type": "code",
   "execution_count": 10,
   "id": "d099a6a6",
   "metadata": {},
   "outputs": [
    {
     "name": "stdout",
     "output_type": "stream",
     "text": [
      "S3 bucket 'manuelfinancebucket' has been created in region 'us-east-2'\n"
     ]
    },
    {
     "data": {
      "text/plain": [
       "True"
      ]
     },
     "execution_count": 10,
     "metadata": {},
     "output_type": "execute_result"
    }
   ],
   "source": [
    "import boto3\n",
    "def create_s3_bucket(bucket_name, region='us-east-1'):\n",
    "    try:\n",
    "        s3 = boto3.resource('s3', region_name=region)\n",
    "        \n",
    "        # For us-east-1, no LocationConstraint should be specified\n",
    "        if region == 'us-east-1':\n",
    "            s3.create_bucket(Bucket=bucket_name)\n",
    "        else:\n",
    "            s3.create_bucket(\n",
    "                Bucket=bucket_name,\n",
    "                CreateBucketConfiguration={\n",
    "                    'LocationConstraint': region\n",
    "                }\n",
    "            )\n",
    "        print(f\"S3 bucket '{bucket_name}' has been created in region '{region}'\")\n",
    "        return True\n",
    "        \n",
    "    except Exception as e:\n",
    "        print(f\"Error creating bucket: {str(e)}\")\n",
    "        return False\n",
    "\n",
    "# Example usage\n",
    "bucket_name = \"manuelfinancebucket\"\n",
    "region = \"us-east-2\"  # Change this to your desired region\n",
    "create_s3_bucket(bucket_name, region)"
   ]
  },
  {
   "cell_type": "code",
   "execution_count": 12,
   "id": "050492f8",
   "metadata": {},
   "outputs": [
    {
     "name": "stdout",
     "output_type": "stream",
     "text": [
      "Collecting yfinance\n",
      "  Downloading yfinance-0.2.49-py2.py3-none-any.whl.metadata (13 kB)\n",
      "Requirement already satisfied: pandas>=1.3.0 in /home/ec2-user/anaconda3/envs/python3/lib/python3.10/site-packages (from yfinance) (1.5.3)\n",
      "Requirement already satisfied: numpy>=1.16.5 in /home/ec2-user/anaconda3/envs/python3/lib/python3.10/site-packages (from yfinance) (1.26.4)\n",
      "Requirement already satisfied: requests>=2.31 in /home/ec2-user/anaconda3/envs/python3/lib/python3.10/site-packages (from yfinance) (2.32.3)\n",
      "Collecting multitasking>=0.0.7 (from yfinance)\n",
      "  Downloading multitasking-0.0.11-py3-none-any.whl.metadata (5.5 kB)\n",
      "Collecting lxml>=4.9.1 (from yfinance)\n",
      "  Downloading lxml-5.3.0-cp310-cp310-manylinux_2_17_x86_64.manylinux2014_x86_64.whl.metadata (3.8 kB)\n",
      "Requirement already satisfied: platformdirs>=2.0.0 in /home/ec2-user/anaconda3/envs/python3/lib/python3.10/site-packages (from yfinance) (4.3.6)\n",
      "Requirement already satisfied: pytz>=2022.5 in /home/ec2-user/anaconda3/envs/python3/lib/python3.10/site-packages (from yfinance) (2024.2)\n",
      "Collecting frozendict>=2.3.4 (from yfinance)\n",
      "  Downloading frozendict-2.4.6-cp310-cp310-manylinux_2_17_x86_64.manylinux2014_x86_64.whl.metadata (23 kB)\n",
      "Collecting peewee>=3.16.2 (from yfinance)\n",
      "  Downloading peewee-3.17.8.tar.gz (948 kB)\n",
      "\u001b[2K     \u001b[90m━━━━━━━━━━━━━━━━━━━━━━━━━━━━━━━━━━━━━━\u001b[0m \u001b[32m948.2/948.2 kB\u001b[0m \u001b[31m26.7 MB/s\u001b[0m eta \u001b[36m0:00:00\u001b[0m\n",
      "\u001b[?25h  Installing build dependencies ... \u001b[?25ldone\n",
      "\u001b[?25h  Getting requirements to build wheel ... \u001b[?25ldone\n",
      "\u001b[?25h  Preparing metadata (pyproject.toml) ... \u001b[?25ldone\n",
      "\u001b[?25hRequirement already satisfied: beautifulsoup4>=4.11.1 in /home/ec2-user/anaconda3/envs/python3/lib/python3.10/site-packages (from yfinance) (4.12.3)\n",
      "Collecting html5lib>=1.1 (from yfinance)\n",
      "  Downloading html5lib-1.1-py2.py3-none-any.whl.metadata (16 kB)\n",
      "Requirement already satisfied: soupsieve>1.2 in /home/ec2-user/anaconda3/envs/python3/lib/python3.10/site-packages (from beautifulsoup4>=4.11.1->yfinance) (2.5)\n",
      "Requirement already satisfied: six>=1.9 in /home/ec2-user/anaconda3/envs/python3/lib/python3.10/site-packages (from html5lib>=1.1->yfinance) (1.16.0)\n",
      "Requirement already satisfied: webencodings in /home/ec2-user/anaconda3/envs/python3/lib/python3.10/site-packages (from html5lib>=1.1->yfinance) (0.5.1)\n",
      "Requirement already satisfied: python-dateutil>=2.8.1 in /home/ec2-user/anaconda3/envs/python3/lib/python3.10/site-packages (from pandas>=1.3.0->yfinance) (2.9.0)\n",
      "Requirement already satisfied: charset-normalizer<4,>=2 in /home/ec2-user/anaconda3/envs/python3/lib/python3.10/site-packages (from requests>=2.31->yfinance) (3.4.0)\n",
      "Requirement already satisfied: idna<4,>=2.5 in /home/ec2-user/anaconda3/envs/python3/lib/python3.10/site-packages (from requests>=2.31->yfinance) (3.10)\n",
      "Requirement already satisfied: urllib3<3,>=1.21.1 in /home/ec2-user/anaconda3/envs/python3/lib/python3.10/site-packages (from requests>=2.31->yfinance) (2.2.3)\n",
      "Requirement already satisfied: certifi>=2017.4.17 in /home/ec2-user/anaconda3/envs/python3/lib/python3.10/site-packages (from requests>=2.31->yfinance) (2024.8.30)\n",
      "Downloading yfinance-0.2.49-py2.py3-none-any.whl (101 kB)\n",
      "Downloading frozendict-2.4.6-cp310-cp310-manylinux_2_17_x86_64.manylinux2014_x86_64.whl (117 kB)\n",
      "Downloading html5lib-1.1-py2.py3-none-any.whl (112 kB)\n",
      "Downloading lxml-5.3.0-cp310-cp310-manylinux_2_17_x86_64.manylinux2014_x86_64.whl (5.0 MB)\n",
      "\u001b[2K   \u001b[90m━━━━━━━━━━━━━━━━━━━━━━━━━━━━━━━━━━━━━━━━\u001b[0m \u001b[32m5.0/5.0 MB\u001b[0m \u001b[31m71.4 MB/s\u001b[0m eta \u001b[36m0:00:00\u001b[0m\n",
      "\u001b[?25hDownloading multitasking-0.0.11-py3-none-any.whl (8.5 kB)\n",
      "Building wheels for collected packages: peewee\n",
      "  Building wheel for peewee (pyproject.toml) ... \u001b[?25ldone\n",
      "\u001b[?25h  Created wheel for peewee: filename=peewee-3.17.8-cp310-cp310-linux_x86_64.whl size=302883 sha256=b172e221e3e1c7e56be370117f718207f4cc5f68c23b8e229f032a174ee309b8\n",
      "  Stored in directory: /home/ec2-user/.cache/pip/wheels/75/79/e5/8838db0594cc6c587142fd2563356392ade6255c5930411069\n",
      "Successfully built peewee\n",
      "Installing collected packages: peewee, multitasking, lxml, html5lib, frozendict, yfinance\n",
      "Successfully installed frozendict-2.4.6 html5lib-1.1 lxml-5.3.0 multitasking-0.0.11 peewee-3.17.8 yfinance-0.2.49\n"
     ]
    },
    {
     "name": "stderr",
     "output_type": "stream",
     "text": [
      "[*********************100%***********************]  1 of 1 completed\n"
     ]
    },
    {
     "data": {
      "text/html": [
       "<div>\n",
       "<style scoped>\n",
       "    .dataframe tbody tr th:only-of-type {\n",
       "        vertical-align: middle;\n",
       "    }\n",
       "\n",
       "    .dataframe tbody tr th {\n",
       "        vertical-align: top;\n",
       "    }\n",
       "\n",
       "    .dataframe thead tr th {\n",
       "        text-align: left;\n",
       "    }\n",
       "</style>\n",
       "<table border=\"1\" class=\"dataframe\">\n",
       "  <thead>\n",
       "    <tr>\n",
       "      <th>Price</th>\n",
       "      <th>Date</th>\n",
       "      <th>Adj Close</th>\n",
       "      <th>Close</th>\n",
       "      <th>High</th>\n",
       "      <th>Low</th>\n",
       "      <th>Open</th>\n",
       "      <th>Volume</th>\n",
       "    </tr>\n",
       "    <tr>\n",
       "      <th>Ticker</th>\n",
       "      <th></th>\n",
       "      <th>AAPL</th>\n",
       "      <th>AAPL</th>\n",
       "      <th>AAPL</th>\n",
       "      <th>AAPL</th>\n",
       "      <th>AAPL</th>\n",
       "      <th>AAPL</th>\n",
       "    </tr>\n",
       "  </thead>\n",
       "  <tbody>\n",
       "    <tr>\n",
       "      <th>0</th>\n",
       "      <td>2019-01-02 00:00:00+00:00</td>\n",
       "      <td>37.708591</td>\n",
       "      <td>39.480000</td>\n",
       "      <td>39.712502</td>\n",
       "      <td>38.557499</td>\n",
       "      <td>38.722500</td>\n",
       "      <td>148158800</td>\n",
       "    </tr>\n",
       "    <tr>\n",
       "      <th>1</th>\n",
       "      <td>2019-01-03 00:00:00+00:00</td>\n",
       "      <td>33.952541</td>\n",
       "      <td>35.547501</td>\n",
       "      <td>36.430000</td>\n",
       "      <td>35.500000</td>\n",
       "      <td>35.994999</td>\n",
       "      <td>365248800</td>\n",
       "    </tr>\n",
       "    <tr>\n",
       "      <th>2</th>\n",
       "      <td>2019-01-04 00:00:00+00:00</td>\n",
       "      <td>35.401947</td>\n",
       "      <td>37.064999</td>\n",
       "      <td>37.137501</td>\n",
       "      <td>35.950001</td>\n",
       "      <td>36.132500</td>\n",
       "      <td>234428400</td>\n",
       "    </tr>\n",
       "    <tr>\n",
       "      <th>3</th>\n",
       "      <td>2019-01-07 00:00:00+00:00</td>\n",
       "      <td>35.323158</td>\n",
       "      <td>36.982498</td>\n",
       "      <td>37.207500</td>\n",
       "      <td>36.474998</td>\n",
       "      <td>37.174999</td>\n",
       "      <td>219111200</td>\n",
       "    </tr>\n",
       "    <tr>\n",
       "      <th>4</th>\n",
       "      <td>2019-01-08 00:00:00+00:00</td>\n",
       "      <td>35.996529</td>\n",
       "      <td>37.687500</td>\n",
       "      <td>37.955002</td>\n",
       "      <td>37.130001</td>\n",
       "      <td>37.389999</td>\n",
       "      <td>164101200</td>\n",
       "    </tr>\n",
       "    <tr>\n",
       "      <th>...</th>\n",
       "      <td>...</td>\n",
       "      <td>...</td>\n",
       "      <td>...</td>\n",
       "      <td>...</td>\n",
       "      <td>...</td>\n",
       "      <td>...</td>\n",
       "      <td>...</td>\n",
       "    </tr>\n",
       "    <tr>\n",
       "      <th>500</th>\n",
       "      <td>2020-12-24 00:00:00+00:00</td>\n",
       "      <td>129.047546</td>\n",
       "      <td>131.970001</td>\n",
       "      <td>133.460007</td>\n",
       "      <td>131.100006</td>\n",
       "      <td>131.320007</td>\n",
       "      <td>54930100</td>\n",
       "    </tr>\n",
       "    <tr>\n",
       "      <th>501</th>\n",
       "      <td>2020-12-28 00:00:00+00:00</td>\n",
       "      <td>133.663010</td>\n",
       "      <td>136.690002</td>\n",
       "      <td>137.339996</td>\n",
       "      <td>133.509995</td>\n",
       "      <td>133.990005</td>\n",
       "      <td>124486200</td>\n",
       "    </tr>\n",
       "    <tr>\n",
       "      <th>502</th>\n",
       "      <td>2020-12-29 00:00:00+00:00</td>\n",
       "      <td>131.883316</td>\n",
       "      <td>134.869995</td>\n",
       "      <td>138.789993</td>\n",
       "      <td>134.339996</td>\n",
       "      <td>138.050003</td>\n",
       "      <td>121047300</td>\n",
       "    </tr>\n",
       "    <tr>\n",
       "      <th>503</th>\n",
       "      <td>2020-12-30 00:00:00+00:00</td>\n",
       "      <td>130.758789</td>\n",
       "      <td>133.720001</td>\n",
       "      <td>135.990005</td>\n",
       "      <td>133.399994</td>\n",
       "      <td>135.580002</td>\n",
       "      <td>96452100</td>\n",
       "    </tr>\n",
       "    <tr>\n",
       "      <th>504</th>\n",
       "      <td>2020-12-31 00:00:00+00:00</td>\n",
       "      <td>129.751556</td>\n",
       "      <td>132.690002</td>\n",
       "      <td>134.740005</td>\n",
       "      <td>131.720001</td>\n",
       "      <td>134.080002</td>\n",
       "      <td>99116600</td>\n",
       "    </tr>\n",
       "  </tbody>\n",
       "</table>\n",
       "<p>505 rows × 7 columns</p>\n",
       "</div>"
      ],
      "text/plain": [
       "Price                       Date   Adj Close       Close        High  \\\n",
       "Ticker                                  AAPL        AAPL        AAPL   \n",
       "0      2019-01-02 00:00:00+00:00   37.708591   39.480000   39.712502   \n",
       "1      2019-01-03 00:00:00+00:00   33.952541   35.547501   36.430000   \n",
       "2      2019-01-04 00:00:00+00:00   35.401947   37.064999   37.137501   \n",
       "3      2019-01-07 00:00:00+00:00   35.323158   36.982498   37.207500   \n",
       "4      2019-01-08 00:00:00+00:00   35.996529   37.687500   37.955002   \n",
       "..                           ...         ...         ...         ...   \n",
       "500    2020-12-24 00:00:00+00:00  129.047546  131.970001  133.460007   \n",
       "501    2020-12-28 00:00:00+00:00  133.663010  136.690002  137.339996   \n",
       "502    2020-12-29 00:00:00+00:00  131.883316  134.869995  138.789993   \n",
       "503    2020-12-30 00:00:00+00:00  130.758789  133.720001  135.990005   \n",
       "504    2020-12-31 00:00:00+00:00  129.751556  132.690002  134.740005   \n",
       "\n",
       "Price          Low        Open     Volume  \n",
       "Ticker        AAPL        AAPL       AAPL  \n",
       "0        38.557499   38.722500  148158800  \n",
       "1        35.500000   35.994999  365248800  \n",
       "2        35.950001   36.132500  234428400  \n",
       "3        36.474998   37.174999  219111200  \n",
       "4        37.130001   37.389999  164101200  \n",
       "..             ...         ...        ...  \n",
       "500     131.100006  131.320007   54930100  \n",
       "501     133.509995  133.990005  124486200  \n",
       "502     134.339996  138.050003  121047300  \n",
       "503     133.399994  135.580002   96452100  \n",
       "504     131.720001  134.080002   99116600  \n",
       "\n",
       "[505 rows x 7 columns]"
      ]
     },
     "execution_count": 12,
     "metadata": {},
     "output_type": "execute_result"
    }
   ],
   "source": [
    "!pip install yfinance\n",
    "import pandas as pd\n",
    "from datetime import datetime\n",
    "import yfinance as yf\n",
    "\n",
    "#parameters\n",
    "start = datetime(2019, 1, 1)\n",
    "end = datetime(2021, 1, 1)\n",
    "\n",
    "#get data\n",
    "df = yf.download('AAPL', start = start, end = end)\n",
    "df.reset_index(inplace=True)\n",
    "df"
   ]
  },
  {
   "cell_type": "markdown",
   "id": "e340232b",
   "metadata": {},
   "source": [
    "# ETL"
   ]
  },
  {
   "cell_type": "code",
   "execution_count": 14,
   "id": "95898848",
   "metadata": {
    "collapsed": true
   },
   "outputs": [
    {
     "ename": "KeyError",
     "evalue": "'Adj Close'",
     "output_type": "error",
     "traceback": [
      "\u001b[0;31m---------------------------------------------------------------------------\u001b[0m",
      "\u001b[0;31mKeyError\u001b[0m                                  Traceback (most recent call last)",
      "Cell \u001b[0;32mIn[14], line 1\u001b[0m\n\u001b[0;32m----> 1\u001b[0m \u001b[43mdf\u001b[49m\u001b[38;5;241;43m.\u001b[39;49m\u001b[43mdrop\u001b[49m\u001b[43m(\u001b[49m\u001b[43mcolumns\u001b[49m\u001b[38;5;241;43m=\u001b[39;49m\u001b[43m[\u001b[49m\u001b[38;5;124;43m'\u001b[39;49m\u001b[38;5;124;43mAdj Close\u001b[39;49m\u001b[38;5;124;43m'\u001b[39;49m\u001b[43m,\u001b[49m\u001b[43m \u001b[49m\u001b[38;5;124;43m'\u001b[39;49m\u001b[38;5;124;43mDate\u001b[39;49m\u001b[38;5;124;43m'\u001b[39;49m\u001b[43m]\u001b[49m\u001b[43m,\u001b[49m\u001b[43m \u001b[49m\u001b[43minplace\u001b[49m\u001b[38;5;241;43m=\u001b[39;49m\u001b[38;5;28;43;01mTrue\u001b[39;49;00m\u001b[43m)\u001b[49m\n",
      "File \u001b[0;32m~/anaconda3/envs/python3/lib/python3.10/site-packages/pandas/util/_decorators.py:331\u001b[0m, in \u001b[0;36mdeprecate_nonkeyword_arguments.<locals>.decorate.<locals>.wrapper\u001b[0;34m(*args, **kwargs)\u001b[0m\n\u001b[1;32m    325\u001b[0m \u001b[38;5;28;01mif\u001b[39;00m \u001b[38;5;28mlen\u001b[39m(args) \u001b[38;5;241m>\u001b[39m num_allow_args:\n\u001b[1;32m    326\u001b[0m     warnings\u001b[38;5;241m.\u001b[39mwarn(\n\u001b[1;32m    327\u001b[0m         msg\u001b[38;5;241m.\u001b[39mformat(arguments\u001b[38;5;241m=\u001b[39m_format_argument_list(allow_args)),\n\u001b[1;32m    328\u001b[0m         \u001b[38;5;167;01mFutureWarning\u001b[39;00m,\n\u001b[1;32m    329\u001b[0m         stacklevel\u001b[38;5;241m=\u001b[39mfind_stack_level(),\n\u001b[1;32m    330\u001b[0m     )\n\u001b[0;32m--> 331\u001b[0m \u001b[38;5;28;01mreturn\u001b[39;00m \u001b[43mfunc\u001b[49m\u001b[43m(\u001b[49m\u001b[38;5;241;43m*\u001b[39;49m\u001b[43margs\u001b[49m\u001b[43m,\u001b[49m\u001b[43m \u001b[49m\u001b[38;5;241;43m*\u001b[39;49m\u001b[38;5;241;43m*\u001b[39;49m\u001b[43mkwargs\u001b[49m\u001b[43m)\u001b[49m\n",
      "File \u001b[0;32m~/anaconda3/envs/python3/lib/python3.10/site-packages/pandas/core/frame.py:5399\u001b[0m, in \u001b[0;36mDataFrame.drop\u001b[0;34m(self, labels, axis, index, columns, level, inplace, errors)\u001b[0m\n\u001b[1;32m   5251\u001b[0m \u001b[38;5;129m@deprecate_nonkeyword_arguments\u001b[39m(version\u001b[38;5;241m=\u001b[39m\u001b[38;5;28;01mNone\u001b[39;00m, allowed_args\u001b[38;5;241m=\u001b[39m[\u001b[38;5;124m\"\u001b[39m\u001b[38;5;124mself\u001b[39m\u001b[38;5;124m\"\u001b[39m, \u001b[38;5;124m\"\u001b[39m\u001b[38;5;124mlabels\u001b[39m\u001b[38;5;124m\"\u001b[39m])\n\u001b[1;32m   5252\u001b[0m \u001b[38;5;28;01mdef\u001b[39;00m \u001b[38;5;21mdrop\u001b[39m(  \u001b[38;5;66;03m# type: ignore[override]\u001b[39;00m\n\u001b[1;32m   5253\u001b[0m     \u001b[38;5;28mself\u001b[39m,\n\u001b[0;32m   (...)\u001b[0m\n\u001b[1;32m   5260\u001b[0m     errors: IgnoreRaise \u001b[38;5;241m=\u001b[39m \u001b[38;5;124m\"\u001b[39m\u001b[38;5;124mraise\u001b[39m\u001b[38;5;124m\"\u001b[39m,\n\u001b[1;32m   5261\u001b[0m ) \u001b[38;5;241m-\u001b[39m\u001b[38;5;241m>\u001b[39m DataFrame \u001b[38;5;241m|\u001b[39m \u001b[38;5;28;01mNone\u001b[39;00m:\n\u001b[1;32m   5262\u001b[0m \u001b[38;5;250m    \u001b[39m\u001b[38;5;124;03m\"\"\"\u001b[39;00m\n\u001b[1;32m   5263\u001b[0m \u001b[38;5;124;03m    Drop specified labels from rows or columns.\u001b[39;00m\n\u001b[1;32m   5264\u001b[0m \n\u001b[0;32m   (...)\u001b[0m\n\u001b[1;32m   5397\u001b[0m \u001b[38;5;124;03m            weight  1.0     0.8\u001b[39;00m\n\u001b[1;32m   5398\u001b[0m \u001b[38;5;124;03m    \"\"\"\u001b[39;00m\n\u001b[0;32m-> 5399\u001b[0m     \u001b[38;5;28;01mreturn\u001b[39;00m \u001b[38;5;28;43msuper\u001b[39;49m\u001b[43m(\u001b[49m\u001b[43m)\u001b[49m\u001b[38;5;241;43m.\u001b[39;49m\u001b[43mdrop\u001b[49m\u001b[43m(\u001b[49m\n\u001b[1;32m   5400\u001b[0m \u001b[43m        \u001b[49m\u001b[43mlabels\u001b[49m\u001b[38;5;241;43m=\u001b[39;49m\u001b[43mlabels\u001b[49m\u001b[43m,\u001b[49m\n\u001b[1;32m   5401\u001b[0m \u001b[43m        \u001b[49m\u001b[43maxis\u001b[49m\u001b[38;5;241;43m=\u001b[39;49m\u001b[43maxis\u001b[49m\u001b[43m,\u001b[49m\n\u001b[1;32m   5402\u001b[0m \u001b[43m        \u001b[49m\u001b[43mindex\u001b[49m\u001b[38;5;241;43m=\u001b[39;49m\u001b[43mindex\u001b[49m\u001b[43m,\u001b[49m\n\u001b[1;32m   5403\u001b[0m \u001b[43m        \u001b[49m\u001b[43mcolumns\u001b[49m\u001b[38;5;241;43m=\u001b[39;49m\u001b[43mcolumns\u001b[49m\u001b[43m,\u001b[49m\n\u001b[1;32m   5404\u001b[0m \u001b[43m        \u001b[49m\u001b[43mlevel\u001b[49m\u001b[38;5;241;43m=\u001b[39;49m\u001b[43mlevel\u001b[49m\u001b[43m,\u001b[49m\n\u001b[1;32m   5405\u001b[0m \u001b[43m        \u001b[49m\u001b[43minplace\u001b[49m\u001b[38;5;241;43m=\u001b[39;49m\u001b[43minplace\u001b[49m\u001b[43m,\u001b[49m\n\u001b[1;32m   5406\u001b[0m \u001b[43m        \u001b[49m\u001b[43merrors\u001b[49m\u001b[38;5;241;43m=\u001b[39;49m\u001b[43merrors\u001b[49m\u001b[43m,\u001b[49m\n\u001b[1;32m   5407\u001b[0m \u001b[43m    \u001b[49m\u001b[43m)\u001b[49m\n",
      "File \u001b[0;32m~/anaconda3/envs/python3/lib/python3.10/site-packages/pandas/util/_decorators.py:331\u001b[0m, in \u001b[0;36mdeprecate_nonkeyword_arguments.<locals>.decorate.<locals>.wrapper\u001b[0;34m(*args, **kwargs)\u001b[0m\n\u001b[1;32m    325\u001b[0m \u001b[38;5;28;01mif\u001b[39;00m \u001b[38;5;28mlen\u001b[39m(args) \u001b[38;5;241m>\u001b[39m num_allow_args:\n\u001b[1;32m    326\u001b[0m     warnings\u001b[38;5;241m.\u001b[39mwarn(\n\u001b[1;32m    327\u001b[0m         msg\u001b[38;5;241m.\u001b[39mformat(arguments\u001b[38;5;241m=\u001b[39m_format_argument_list(allow_args)),\n\u001b[1;32m    328\u001b[0m         \u001b[38;5;167;01mFutureWarning\u001b[39;00m,\n\u001b[1;32m    329\u001b[0m         stacklevel\u001b[38;5;241m=\u001b[39mfind_stack_level(),\n\u001b[1;32m    330\u001b[0m     )\n\u001b[0;32m--> 331\u001b[0m \u001b[38;5;28;01mreturn\u001b[39;00m \u001b[43mfunc\u001b[49m\u001b[43m(\u001b[49m\u001b[38;5;241;43m*\u001b[39;49m\u001b[43margs\u001b[49m\u001b[43m,\u001b[49m\u001b[43m \u001b[49m\u001b[38;5;241;43m*\u001b[39;49m\u001b[38;5;241;43m*\u001b[39;49m\u001b[43mkwargs\u001b[49m\u001b[43m)\u001b[49m\n",
      "File \u001b[0;32m~/anaconda3/envs/python3/lib/python3.10/site-packages/pandas/core/generic.py:4505\u001b[0m, in \u001b[0;36mNDFrame.drop\u001b[0;34m(self, labels, axis, index, columns, level, inplace, errors)\u001b[0m\n\u001b[1;32m   4503\u001b[0m \u001b[38;5;28;01mfor\u001b[39;00m axis, labels \u001b[38;5;129;01min\u001b[39;00m axes\u001b[38;5;241m.\u001b[39mitems():\n\u001b[1;32m   4504\u001b[0m     \u001b[38;5;28;01mif\u001b[39;00m labels \u001b[38;5;129;01mis\u001b[39;00m \u001b[38;5;129;01mnot\u001b[39;00m \u001b[38;5;28;01mNone\u001b[39;00m:\n\u001b[0;32m-> 4505\u001b[0m         obj \u001b[38;5;241m=\u001b[39m \u001b[43mobj\u001b[49m\u001b[38;5;241;43m.\u001b[39;49m\u001b[43m_drop_axis\u001b[49m\u001b[43m(\u001b[49m\u001b[43mlabels\u001b[49m\u001b[43m,\u001b[49m\u001b[43m \u001b[49m\u001b[43maxis\u001b[49m\u001b[43m,\u001b[49m\u001b[43m \u001b[49m\u001b[43mlevel\u001b[49m\u001b[38;5;241;43m=\u001b[39;49m\u001b[43mlevel\u001b[49m\u001b[43m,\u001b[49m\u001b[43m \u001b[49m\u001b[43merrors\u001b[49m\u001b[38;5;241;43m=\u001b[39;49m\u001b[43merrors\u001b[49m\u001b[43m)\u001b[49m\n\u001b[1;32m   4507\u001b[0m \u001b[38;5;28;01mif\u001b[39;00m inplace:\n\u001b[1;32m   4508\u001b[0m     \u001b[38;5;28mself\u001b[39m\u001b[38;5;241m.\u001b[39m_update_inplace(obj)\n",
      "File \u001b[0;32m~/anaconda3/envs/python3/lib/python3.10/site-packages/pandas/core/generic.py:4546\u001b[0m, in \u001b[0;36mNDFrame._drop_axis\u001b[0;34m(self, labels, axis, level, errors, only_slice)\u001b[0m\n\u001b[1;32m   4544\u001b[0m         new_axis \u001b[38;5;241m=\u001b[39m axis\u001b[38;5;241m.\u001b[39mdrop(labels, level\u001b[38;5;241m=\u001b[39mlevel, errors\u001b[38;5;241m=\u001b[39merrors)\n\u001b[1;32m   4545\u001b[0m     \u001b[38;5;28;01melse\u001b[39;00m:\n\u001b[0;32m-> 4546\u001b[0m         new_axis \u001b[38;5;241m=\u001b[39m \u001b[43maxis\u001b[49m\u001b[38;5;241;43m.\u001b[39;49m\u001b[43mdrop\u001b[49m\u001b[43m(\u001b[49m\u001b[43mlabels\u001b[49m\u001b[43m,\u001b[49m\u001b[43m \u001b[49m\u001b[43merrors\u001b[49m\u001b[38;5;241;43m=\u001b[39;49m\u001b[43merrors\u001b[49m\u001b[43m)\u001b[49m\n\u001b[1;32m   4547\u001b[0m     indexer \u001b[38;5;241m=\u001b[39m axis\u001b[38;5;241m.\u001b[39mget_indexer(new_axis)\n\u001b[1;32m   4549\u001b[0m \u001b[38;5;66;03m# Case for non-unique axis\u001b[39;00m\n\u001b[1;32m   4550\u001b[0m \u001b[38;5;28;01melse\u001b[39;00m:\n",
      "File \u001b[0;32m~/anaconda3/envs/python3/lib/python3.10/site-packages/pandas/core/indexes/multi.py:2270\u001b[0m, in \u001b[0;36mMultiIndex.drop\u001b[0;34m(self, codes, level, errors)\u001b[0m\n\u001b[1;32m   2268\u001b[0m \u001b[38;5;28;01mfor\u001b[39;00m level_codes \u001b[38;5;129;01min\u001b[39;00m codes:\n\u001b[1;32m   2269\u001b[0m     \u001b[38;5;28;01mtry\u001b[39;00m:\n\u001b[0;32m-> 2270\u001b[0m         loc \u001b[38;5;241m=\u001b[39m \u001b[38;5;28;43mself\u001b[39;49m\u001b[38;5;241;43m.\u001b[39;49m\u001b[43mget_loc\u001b[49m\u001b[43m(\u001b[49m\u001b[43mlevel_codes\u001b[49m\u001b[43m)\u001b[49m\n\u001b[1;32m   2271\u001b[0m         \u001b[38;5;66;03m# get_loc returns either an integer, a slice, or a boolean\u001b[39;00m\n\u001b[1;32m   2272\u001b[0m         \u001b[38;5;66;03m# mask\u001b[39;00m\n\u001b[1;32m   2273\u001b[0m         \u001b[38;5;28;01mif\u001b[39;00m \u001b[38;5;28misinstance\u001b[39m(loc, \u001b[38;5;28mint\u001b[39m):\n",
      "File \u001b[0;32m~/anaconda3/envs/python3/lib/python3.10/site-packages/pandas/core/indexes/multi.py:2916\u001b[0m, in \u001b[0;36mMultiIndex.get_loc\u001b[0;34m(self, key, method)\u001b[0m\n\u001b[1;32m   2913\u001b[0m     \u001b[38;5;28;01mreturn\u001b[39;00m mask\n\u001b[1;32m   2915\u001b[0m \u001b[38;5;28;01mif\u001b[39;00m \u001b[38;5;129;01mnot\u001b[39;00m \u001b[38;5;28misinstance\u001b[39m(key, \u001b[38;5;28mtuple\u001b[39m):\n\u001b[0;32m-> 2916\u001b[0m     loc \u001b[38;5;241m=\u001b[39m \u001b[38;5;28;43mself\u001b[39;49m\u001b[38;5;241;43m.\u001b[39;49m\u001b[43m_get_level_indexer\u001b[49m\u001b[43m(\u001b[49m\u001b[43mkey\u001b[49m\u001b[43m,\u001b[49m\u001b[43m \u001b[49m\u001b[43mlevel\u001b[49m\u001b[38;5;241;43m=\u001b[39;49m\u001b[38;5;241;43m0\u001b[39;49m\u001b[43m)\u001b[49m\n\u001b[1;32m   2917\u001b[0m     \u001b[38;5;28;01mreturn\u001b[39;00m _maybe_to_slice(loc)\n\u001b[1;32m   2919\u001b[0m keylen \u001b[38;5;241m=\u001b[39m \u001b[38;5;28mlen\u001b[39m(key)\n",
      "File \u001b[0;32m~/anaconda3/envs/python3/lib/python3.10/site-packages/pandas/core/indexes/multi.py:3290\u001b[0m, in \u001b[0;36mMultiIndex._get_level_indexer\u001b[0;34m(self, key, level, indexer)\u001b[0m\n\u001b[1;32m   3286\u001b[0m     end \u001b[38;5;241m=\u001b[39m algos\u001b[38;5;241m.\u001b[39msearchsorted(level_codes, idx, side\u001b[38;5;241m=\u001b[39m\u001b[38;5;124m\"\u001b[39m\u001b[38;5;124mright\u001b[39m\u001b[38;5;124m\"\u001b[39m)\n\u001b[1;32m   3288\u001b[0m \u001b[38;5;28;01mif\u001b[39;00m start \u001b[38;5;241m==\u001b[39m end:\n\u001b[1;32m   3289\u001b[0m     \u001b[38;5;66;03m# The label is present in self.levels[level] but unused:\u001b[39;00m\n\u001b[0;32m-> 3290\u001b[0m     \u001b[38;5;28;01mraise\u001b[39;00m \u001b[38;5;167;01mKeyError\u001b[39;00m(key)\n\u001b[1;32m   3291\u001b[0m \u001b[38;5;28;01mreturn\u001b[39;00m \u001b[38;5;28mslice\u001b[39m(start, end)\n",
      "\u001b[0;31mKeyError\u001b[0m: 'Adj Close'"
     ]
    }
   ],
   "source": [
    "df.drop(columns=['Adj Close', 'Date'], inplace=True)"
   ]
  },
  {
   "cell_type": "code",
   "execution_count": 16,
   "id": "e742bf2e",
   "metadata": {},
   "outputs": [
    {
     "data": {
      "text/html": [
       "<div>\n",
       "<style scoped>\n",
       "    .dataframe tbody tr th:only-of-type {\n",
       "        vertical-align: middle;\n",
       "    }\n",
       "\n",
       "    .dataframe tbody tr th {\n",
       "        vertical-align: top;\n",
       "    }\n",
       "\n",
       "    .dataframe thead tr th {\n",
       "        text-align: left;\n",
       "    }\n",
       "</style>\n",
       "<table border=\"1\" class=\"dataframe\">\n",
       "  <thead>\n",
       "    <tr>\n",
       "      <th>Price</th>\n",
       "      <th>Close</th>\n",
       "      <th>High</th>\n",
       "      <th>Low</th>\n",
       "      <th>Open</th>\n",
       "      <th>Volume</th>\n",
       "    </tr>\n",
       "    <tr>\n",
       "      <th>Ticker</th>\n",
       "      <th>AAPL</th>\n",
       "      <th>AAPL</th>\n",
       "      <th>AAPL</th>\n",
       "      <th>AAPL</th>\n",
       "      <th>AAPL</th>\n",
       "    </tr>\n",
       "  </thead>\n",
       "  <tbody>\n",
       "    <tr>\n",
       "      <th>0</th>\n",
       "      <td>39.480000</td>\n",
       "      <td>39.712502</td>\n",
       "      <td>38.557499</td>\n",
       "      <td>38.722500</td>\n",
       "      <td>148158800</td>\n",
       "    </tr>\n",
       "    <tr>\n",
       "      <th>1</th>\n",
       "      <td>35.547501</td>\n",
       "      <td>36.430000</td>\n",
       "      <td>35.500000</td>\n",
       "      <td>35.994999</td>\n",
       "      <td>365248800</td>\n",
       "    </tr>\n",
       "    <tr>\n",
       "      <th>2</th>\n",
       "      <td>37.064999</td>\n",
       "      <td>37.137501</td>\n",
       "      <td>35.950001</td>\n",
       "      <td>36.132500</td>\n",
       "      <td>234428400</td>\n",
       "    </tr>\n",
       "    <tr>\n",
       "      <th>3</th>\n",
       "      <td>36.982498</td>\n",
       "      <td>37.207500</td>\n",
       "      <td>36.474998</td>\n",
       "      <td>37.174999</td>\n",
       "      <td>219111200</td>\n",
       "    </tr>\n",
       "    <tr>\n",
       "      <th>4</th>\n",
       "      <td>37.687500</td>\n",
       "      <td>37.955002</td>\n",
       "      <td>37.130001</td>\n",
       "      <td>37.389999</td>\n",
       "      <td>164101200</td>\n",
       "    </tr>\n",
       "    <tr>\n",
       "      <th>...</th>\n",
       "      <td>...</td>\n",
       "      <td>...</td>\n",
       "      <td>...</td>\n",
       "      <td>...</td>\n",
       "      <td>...</td>\n",
       "    </tr>\n",
       "    <tr>\n",
       "      <th>499</th>\n",
       "      <td>130.960007</td>\n",
       "      <td>132.429993</td>\n",
       "      <td>130.779999</td>\n",
       "      <td>132.160004</td>\n",
       "      <td>88223700</td>\n",
       "    </tr>\n",
       "    <tr>\n",
       "      <th>500</th>\n",
       "      <td>131.970001</td>\n",
       "      <td>133.460007</td>\n",
       "      <td>131.100006</td>\n",
       "      <td>131.320007</td>\n",
       "      <td>54930100</td>\n",
       "    </tr>\n",
       "    <tr>\n",
       "      <th>501</th>\n",
       "      <td>136.690002</td>\n",
       "      <td>137.339996</td>\n",
       "      <td>133.509995</td>\n",
       "      <td>133.990005</td>\n",
       "      <td>124486200</td>\n",
       "    </tr>\n",
       "    <tr>\n",
       "      <th>502</th>\n",
       "      <td>134.869995</td>\n",
       "      <td>138.789993</td>\n",
       "      <td>134.339996</td>\n",
       "      <td>138.050003</td>\n",
       "      <td>121047300</td>\n",
       "    </tr>\n",
       "    <tr>\n",
       "      <th>503</th>\n",
       "      <td>133.720001</td>\n",
       "      <td>135.990005</td>\n",
       "      <td>133.399994</td>\n",
       "      <td>135.580002</td>\n",
       "      <td>96452100</td>\n",
       "    </tr>\n",
       "  </tbody>\n",
       "</table>\n",
       "<p>504 rows × 5 columns</p>\n",
       "</div>"
      ],
      "text/plain": [
       "Price        Close        High         Low        Open     Volume\n",
       "Ticker        AAPL        AAPL        AAPL        AAPL       AAPL\n",
       "0        39.480000   39.712502   38.557499   38.722500  148158800\n",
       "1        35.547501   36.430000   35.500000   35.994999  365248800\n",
       "2        37.064999   37.137501   35.950001   36.132500  234428400\n",
       "3        36.982498   37.207500   36.474998   37.174999  219111200\n",
       "4        37.687500   37.955002   37.130001   37.389999  164101200\n",
       "..             ...         ...         ...         ...        ...\n",
       "499     130.960007  132.429993  130.779999  132.160004   88223700\n",
       "500     131.970001  133.460007  131.100006  131.320007   54930100\n",
       "501     136.690002  137.339996  133.509995  133.990005  124486200\n",
       "502     134.869995  138.789993  134.339996  138.050003  121047300\n",
       "503     133.720001  135.990005  133.399994  135.580002   96452100\n",
       "\n",
       "[504 rows x 5 columns]"
      ]
     },
     "execution_count": 16,
     "metadata": {},
     "output_type": "execute_result"
    }
   ],
   "source": [
    "df_data_features = df.iloc[:-1 , :]\n",
    "df_data_features"
   ]
  },
  {
   "cell_type": "code",
   "execution_count": 19,
   "id": "bdbf8c5d",
   "metadata": {},
   "outputs": [
    {
     "data": {
      "text/plain": [
       "1       35.547501\n",
       "2       37.064999\n",
       "3       36.982498\n",
       "4       37.687500\n",
       "5       38.327499\n",
       "          ...    \n",
       "500    131.970001\n",
       "501    136.690002\n",
       "502    134.869995\n",
       "503    133.720001\n",
       "504    132.690002\n",
       "Name: Targets, Length: 504, dtype: float64"
      ]
     },
     "execution_count": 19,
     "metadata": {},
     "output_type": "execute_result"
    }
   ],
   "source": [
    "df_data_targets = df.iloc[1: , 0].rename(\"Targets\")\n",
    "3df_data_targets"
   ]
  },
  {
   "cell_type": "code",
   "execution_count": 20,
   "id": "01e22798",
   "metadata": {},
   "outputs": [
    {
     "name": "stderr",
     "output_type": "stream",
     "text": [
      "/tmp/ipykernel_8593/4141939672.py:1: SettingWithCopyWarning: \n",
      "A value is trying to be set on a copy of a slice from a DataFrame.\n",
      "Try using .loc[row_indexer,col_indexer] = value instead\n",
      "\n",
      "See the caveats in the documentation: https://pandas.pydata.org/pandas-docs/stable/user_guide/indexing.html#returning-a-view-versus-a-copy\n",
      "  df_data_features['Target'] = list(df_data_targets)\n"
     ]
    },
    {
     "data": {
      "text/html": [
       "<div>\n",
       "<style scoped>\n",
       "    .dataframe tbody tr th:only-of-type {\n",
       "        vertical-align: middle;\n",
       "    }\n",
       "\n",
       "    .dataframe tbody tr th {\n",
       "        vertical-align: top;\n",
       "    }\n",
       "\n",
       "    .dataframe thead tr th {\n",
       "        text-align: left;\n",
       "    }\n",
       "</style>\n",
       "<table border=\"1\" class=\"dataframe\">\n",
       "  <thead>\n",
       "    <tr>\n",
       "      <th>Price</th>\n",
       "      <th>Target</th>\n",
       "      <th>Close</th>\n",
       "      <th>High</th>\n",
       "      <th>Low</th>\n",
       "      <th>Open</th>\n",
       "      <th>Volume</th>\n",
       "    </tr>\n",
       "    <tr>\n",
       "      <th>Ticker</th>\n",
       "      <th></th>\n",
       "      <th>AAPL</th>\n",
       "      <th>AAPL</th>\n",
       "      <th>AAPL</th>\n",
       "      <th>AAPL</th>\n",
       "      <th>AAPL</th>\n",
       "    </tr>\n",
       "  </thead>\n",
       "  <tbody>\n",
       "    <tr>\n",
       "      <th>1</th>\n",
       "      <td>35.547501</td>\n",
       "      <td>35.547501</td>\n",
       "      <td>36.430000</td>\n",
       "      <td>35.500000</td>\n",
       "      <td>35.994999</td>\n",
       "      <td>365248800</td>\n",
       "    </tr>\n",
       "    <tr>\n",
       "      <th>2</th>\n",
       "      <td>37.064999</td>\n",
       "      <td>37.064999</td>\n",
       "      <td>37.137501</td>\n",
       "      <td>35.950001</td>\n",
       "      <td>36.132500</td>\n",
       "      <td>234428400</td>\n",
       "    </tr>\n",
       "    <tr>\n",
       "      <th>3</th>\n",
       "      <td>36.982498</td>\n",
       "      <td>36.982498</td>\n",
       "      <td>37.207500</td>\n",
       "      <td>36.474998</td>\n",
       "      <td>37.174999</td>\n",
       "      <td>219111200</td>\n",
       "    </tr>\n",
       "    <tr>\n",
       "      <th>4</th>\n",
       "      <td>37.687500</td>\n",
       "      <td>37.687500</td>\n",
       "      <td>37.955002</td>\n",
       "      <td>37.130001</td>\n",
       "      <td>37.389999</td>\n",
       "      <td>164101200</td>\n",
       "    </tr>\n",
       "    <tr>\n",
       "      <th>5</th>\n",
       "      <td>38.327499</td>\n",
       "      <td>38.327499</td>\n",
       "      <td>38.632500</td>\n",
       "      <td>37.407501</td>\n",
       "      <td>37.822498</td>\n",
       "      <td>180396400</td>\n",
       "    </tr>\n",
       "    <tr>\n",
       "      <th>...</th>\n",
       "      <td>...</td>\n",
       "      <td>...</td>\n",
       "      <td>...</td>\n",
       "      <td>...</td>\n",
       "      <td>...</td>\n",
       "      <td>...</td>\n",
       "    </tr>\n",
       "    <tr>\n",
       "      <th>500</th>\n",
       "      <td>131.970001</td>\n",
       "      <td>131.970001</td>\n",
       "      <td>133.460007</td>\n",
       "      <td>131.100006</td>\n",
       "      <td>131.320007</td>\n",
       "      <td>54930100</td>\n",
       "    </tr>\n",
       "    <tr>\n",
       "      <th>501</th>\n",
       "      <td>136.690002</td>\n",
       "      <td>136.690002</td>\n",
       "      <td>137.339996</td>\n",
       "      <td>133.509995</td>\n",
       "      <td>133.990005</td>\n",
       "      <td>124486200</td>\n",
       "    </tr>\n",
       "    <tr>\n",
       "      <th>502</th>\n",
       "      <td>134.869995</td>\n",
       "      <td>134.869995</td>\n",
       "      <td>138.789993</td>\n",
       "      <td>134.339996</td>\n",
       "      <td>138.050003</td>\n",
       "      <td>121047300</td>\n",
       "    </tr>\n",
       "    <tr>\n",
       "      <th>503</th>\n",
       "      <td>133.720001</td>\n",
       "      <td>133.720001</td>\n",
       "      <td>135.990005</td>\n",
       "      <td>133.399994</td>\n",
       "      <td>135.580002</td>\n",
       "      <td>96452100</td>\n",
       "    </tr>\n",
       "    <tr>\n",
       "      <th>504</th>\n",
       "      <td>132.690002</td>\n",
       "      <td>132.690002</td>\n",
       "      <td>134.740005</td>\n",
       "      <td>131.720001</td>\n",
       "      <td>134.080002</td>\n",
       "      <td>99116600</td>\n",
       "    </tr>\n",
       "  </tbody>\n",
       "</table>\n",
       "<p>504 rows × 6 columns</p>\n",
       "</div>"
      ],
      "text/plain": [
       "Price       Target       Close        High         Low        Open     Volume\n",
       "Ticker                    AAPL        AAPL        AAPL        AAPL       AAPL\n",
       "1        35.547501   35.547501   36.430000   35.500000   35.994999  365248800\n",
       "2        37.064999   37.064999   37.137501   35.950001   36.132500  234428400\n",
       "3        36.982498   36.982498   37.207500   36.474998   37.174999  219111200\n",
       "4        37.687500   37.687500   37.955002   37.130001   37.389999  164101200\n",
       "5        38.327499   38.327499   38.632500   37.407501   37.822498  180396400\n",
       "..             ...         ...         ...         ...         ...        ...\n",
       "500     131.970001  131.970001  133.460007  131.100006  131.320007   54930100\n",
       "501     136.690002  136.690002  137.339996  133.509995  133.990005  124486200\n",
       "502     134.869995  134.869995  138.789993  134.339996  138.050003  121047300\n",
       "503     133.720001  133.720001  135.990005  133.399994  135.580002   96452100\n",
       "504     132.690002  132.690002  134.740005  131.720001  134.080002   99116600\n",
       "\n",
       "[504 rows x 6 columns]"
      ]
     },
     "execution_count": 20,
     "metadata": {},
     "output_type": "execute_result"
    }
   ],
   "source": [
    "# For XGBoost to work the target column must be in the first column\n",
    "df_data_features['Target'] = list(df_data_targets)\n",
    "first_column = df_data_features.pop('Target')\n",
    "df_data_features.insert(0,'Target', first_column)\n",
    "\n",
    "df_data_final = df_data_features\n",
    "df_data_final"
   ]
  },
  {
   "cell_type": "markdown",
   "id": "9e8cc034",
   "metadata": {},
   "source": [
    "# "
   ]
  },
  {
   "cell_type": "code",
   "execution_count": 21,
   "id": "4fcac5c3",
   "metadata": {},
   "outputs": [
    {
     "data": {
      "text/html": [
       "<div>\n",
       "<style scoped>\n",
       "    .dataframe tbody tr th:only-of-type {\n",
       "        vertical-align: middle;\n",
       "    }\n",
       "\n",
       "    .dataframe tbody tr th {\n",
       "        vertical-align: top;\n",
       "    }\n",
       "\n",
       "    .dataframe thead tr th {\n",
       "        text-align: left;\n",
       "    }\n",
       "</style>\n",
       "<table border=\"1\" class=\"dataframe\">\n",
       "  <thead>\n",
       "    <tr>\n",
       "      <th>Price</th>\n",
       "      <th>Target</th>\n",
       "      <th>Close</th>\n",
       "      <th>High</th>\n",
       "      <th>Low</th>\n",
       "      <th>Open</th>\n",
       "      <th>Volume</th>\n",
       "    </tr>\n",
       "    <tr>\n",
       "      <th>Ticker</th>\n",
       "      <th></th>\n",
       "      <th>AAPL</th>\n",
       "      <th>AAPL</th>\n",
       "      <th>AAPL</th>\n",
       "      <th>AAPL</th>\n",
       "      <th>AAPL</th>\n",
       "    </tr>\n",
       "  </thead>\n",
       "  <tbody>\n",
       "    <tr>\n",
       "      <th>430</th>\n",
       "      <td>112.129997</td>\n",
       "      <td>112.129997</td>\n",
       "      <td>116.000000</td>\n",
       "      <td>112.040001</td>\n",
       "      <td>115.230003</td>\n",
       "      <td>154679000</td>\n",
       "    </tr>\n",
       "    <tr>\n",
       "      <th>283</th>\n",
       "      <td>79.750000</td>\n",
       "      <td>79.750000</td>\n",
       "      <td>79.937500</td>\n",
       "      <td>78.652496</td>\n",
       "      <td>78.839996</td>\n",
       "      <td>152531200</td>\n",
       "    </tr>\n",
       "    <tr>\n",
       "      <th>384</th>\n",
       "      <td>95.477501</td>\n",
       "      <td>95.477501</td>\n",
       "      <td>99.955002</td>\n",
       "      <td>95.257500</td>\n",
       "      <td>97.264999</td>\n",
       "      <td>191649200</td>\n",
       "    </tr>\n",
       "    <tr>\n",
       "      <th>478</th>\n",
       "      <td>113.849998</td>\n",
       "      <td>113.849998</td>\n",
       "      <td>117.620003</td>\n",
       "      <td>113.750000</td>\n",
       "      <td>117.180000</td>\n",
       "      <td>127959300</td>\n",
       "    </tr>\n",
       "    <tr>\n",
       "      <th>429</th>\n",
       "      <td>115.540001</td>\n",
       "      <td>115.540001</td>\n",
       "      <td>118.830002</td>\n",
       "      <td>113.610001</td>\n",
       "      <td>118.330002</td>\n",
       "      <td>184642000</td>\n",
       "    </tr>\n",
       "    <tr>\n",
       "      <th>...</th>\n",
       "      <td>...</td>\n",
       "      <td>...</td>\n",
       "      <td>...</td>\n",
       "      <td>...</td>\n",
       "      <td>...</td>\n",
       "      <td>...</td>\n",
       "    </tr>\n",
       "    <tr>\n",
       "      <th>99</th>\n",
       "      <td>44.742500</td>\n",
       "      <td>44.742500</td>\n",
       "      <td>45.535000</td>\n",
       "      <td>44.654999</td>\n",
       "      <td>45.049999</td>\n",
       "      <td>94858800</td>\n",
       "    </tr>\n",
       "    <tr>\n",
       "      <th>477</th>\n",
       "      <td>117.339996</td>\n",
       "      <td>117.339996</td>\n",
       "      <td>118.769997</td>\n",
       "      <td>117.290001</td>\n",
       "      <td>118.639999</td>\n",
       "      <td>73604300</td>\n",
       "    </tr>\n",
       "    <tr>\n",
       "      <th>323</th>\n",
       "      <td>71.107498</td>\n",
       "      <td>71.107498</td>\n",
       "      <td>71.582497</td>\n",
       "      <td>70.157501</td>\n",
       "      <td>70.599998</td>\n",
       "      <td>131154400</td>\n",
       "    </tr>\n",
       "    <tr>\n",
       "      <th>383</th>\n",
       "      <td>95.919998</td>\n",
       "      <td>95.919998</td>\n",
       "      <td>95.980003</td>\n",
       "      <td>94.705002</td>\n",
       "      <td>95.334999</td>\n",
       "      <td>90257200</td>\n",
       "    </tr>\n",
       "    <tr>\n",
       "      <th>366</th>\n",
       "      <td>88.019997</td>\n",
       "      <td>88.019997</td>\n",
       "      <td>88.300003</td>\n",
       "      <td>86.180000</td>\n",
       "      <td>87.864998</td>\n",
       "      <td>165428800</td>\n",
       "    </tr>\n",
       "  </tbody>\n",
       "</table>\n",
       "<p>504 rows × 6 columns</p>\n",
       "</div>"
      ],
      "text/plain": [
       "Price       Target       Close        High         Low        Open     Volume\n",
       "Ticker                    AAPL        AAPL        AAPL        AAPL       AAPL\n",
       "430     112.129997  112.129997  116.000000  112.040001  115.230003  154679000\n",
       "283      79.750000   79.750000   79.937500   78.652496   78.839996  152531200\n",
       "384      95.477501   95.477501   99.955002   95.257500   97.264999  191649200\n",
       "478     113.849998  113.849998  117.620003  113.750000  117.180000  127959300\n",
       "429     115.540001  115.540001  118.830002  113.610001  118.330002  184642000\n",
       "..             ...         ...         ...         ...         ...        ...\n",
       "99       44.742500   44.742500   45.535000   44.654999   45.049999   94858800\n",
       "477     117.339996  117.339996  118.769997  117.290001  118.639999   73604300\n",
       "323      71.107498   71.107498   71.582497   70.157501   70.599998  131154400\n",
       "383      95.919998   95.919998   95.980003   94.705002   95.334999   90257200\n",
       "366      88.019997   88.019997   88.300003   86.180000   87.864998  165428800\n",
       "\n",
       "[504 rows x 6 columns]"
      ]
     },
     "execution_count": 21,
     "metadata": {},
     "output_type": "execute_result"
    }
   ],
   "source": [
    "import numpy as np\n",
    "df_randomized = df_data_final.sample(frac=1, random_state=123)\n",
    "df_randomized"
   ]
  },
  {
   "cell_type": "code",
   "execution_count": 22,
   "id": "3a24aa07",
   "metadata": {},
   "outputs": [
    {
     "name": "stdout",
     "output_type": "stream",
     "text": [
      "(403, 6) (101, 6)\n"
     ]
    }
   ],
   "source": [
    "train_data, test_data = np.split(df_randomized, [int(0.8*len(df_randomized))])\n",
    "print(train_data.shape, test_data.shape)"
   ]
  },
  {
   "cell_type": "markdown",
   "id": "e3f81ea4",
   "metadata": {},
   "source": [
    "# Set a path and upload dataset into a S3 Bucket"
   ]
  },
  {
   "cell_type": "code",
   "execution_count": 24,
   "id": "4a953669",
   "metadata": {},
   "outputs": [
    {
     "name": "stdout",
     "output_type": "stream",
     "text": [
      "s3://manuelfinancebucket/xgboost algo on the go/train/train.csv\n",
      "s3://manuelfinancebucket/xgboost algo on the go/test/test.csv\n"
     ]
    }
   ],
   "source": [
    "import os\n",
    "prefix = (\"xgboost algo on the go\")\n",
    "train_csv_path = 's3://{}/{}/{}/{}'.format(bucket_name, prefix, \"train\", \"train.csv\")\n",
    "test_csv_path = 's3://{}/{}/{}/{}'.format(bucket_name, prefix, \"test\", \"test.csv\")\n",
    "print(train_csv_path)\n",
    "print(test_csv_path)"
   ]
  },
  {
   "cell_type": "code",
   "execution_count": 25,
   "id": "a5817ad2",
   "metadata": {},
   "outputs": [
    {
     "name": "stderr",
     "output_type": "stream",
     "text": [
      "/home/ec2-user/anaconda3/envs/python3/lib/python3.10/site-packages/fsspec/registry.py:279: UserWarning: Your installed version of s3fs is very old and known to cause\n",
      "severe performance issues, see also https://github.com/dask/dask/issues/10276\n",
      "\n",
      "To fix, you should specify a lower version bound on s3fs, or\n",
      "update the current installation.\n",
      "\n",
      "  warnings.warn(s3_msg)\n"
     ]
    }
   ],
   "source": [
    "train_data.to_csv(train_csv_path, index = False, header = False)\n",
    "test_data.to_csv(test_csv_path, index = False, header = False)"
   ]
  },
  {
   "cell_type": "markdown",
   "id": "973ee3d6",
   "metadata": {},
   "source": [
    "# Build an XGBoost Model\n",
    "## You can use XGBoost as a Framework or as an Algorithm"
   ]
  },
  {
   "cell_type": "code",
   "execution_count": 27,
   "id": "0ee1feaf",
   "metadata": {},
   "outputs": [
    {
     "name": "stdout",
     "output_type": "stream",
     "text": [
      "sagemaker.config INFO - Not applying SDK defaults from location: /etc/xdg/sagemaker/config.yaml\n",
      "sagemaker.config INFO - Not applying SDK defaults from location: /home/ec2-user/.config/sagemaker/config.yaml\n"
     ]
    }
   ],
   "source": [
    "import sagemaker\n",
    "from sagemaker import image_uris\n",
    "from sagemaker.session import Session\n",
    "from sagemaker.inputs import TrainingInput"
   ]
  },
  {
   "cell_type": "markdown",
   "id": "6607646d",
   "metadata": {},
   "source": [
    "# Find XGBoost image_uri and builds an XGBoost Container"
   ]
  },
  {
   "cell_type": "code",
   "execution_count": 29,
   "id": "77eaa515",
   "metadata": {},
   "outputs": [
    {
     "data": {
      "text/plain": [
       "'257758044811.dkr.ecr.us-east-2.amazonaws.com/sagemaker-xgboost:1.2-2'"
      ]
     },
     "metadata": {},
     "output_type": "display_data"
    }
   ],
   "source": [
    "xgboost_container = image_uris.retrieve(\"xgboost\", boto3.Session().region_name, \"1.2-2\")\n",
    "display(xgboost_container)"
   ]
  },
  {
   "cell_type": "markdown",
   "id": "84cd0395",
   "metadata": {},
   "source": [
    "# Hyperparameters\n",
    "| **Parameter Name**         | **Description**                                                                                                                                                  | **Required/Optional** | **Valid Values**                            | **Default Value**               |\n",
    "|-----------------------------|------------------------------------------------------------------------------------------------------------------------------------------------------------------|------------------------|---------------------------------------------|----------------------------------|\n",
    "| `num_class`                | The number of classes. Required if `objective` is set to `multi:softmax` or `multi:softprob`.                                                                   | Required               | Integer                                     | -                                |\n",
    "| `num_round`                | The number of rounds to run the training.                                                                                                                       | Required               | Integer                                     | -                                |\n",
    "| `alpha`                    | L1 regularization term on weights. Increasing this value makes models more conservative.                                                                        | Optional               | Float                                       | 0                                |\n",
    "| `base_score`               | The initial prediction score of all instances, global bias.                                                                                                     | Optional               | Float                                       | 0.5                              |\n",
    "| `booster`                  | Which booster to use: `gbtree`, `gblinear`, or `dart`.                                                                                                          | Optional               | `\"gbtree\"`, `\"gblinear\"`, `\"dart\"`          | `\"gbtree\"`                      |\n",
    "| `colsample_bylevel`        | Subsample ratio of columns for each split, in each level.                                                                                                       | Optional               | Float, [0,1]                                | 1                                |\n",
    "| `colsample_bynode`         | Subsample ratio of columns from each node.                                                                                                                      | Optional               | Float, (0,1]                                | 1                                |\n",
    "| `colsample_bytree`         | Subsample ratio of columns when constructing each tree.                                                                                                         | Optional               | Float, [0,1]                                | 1                                |\n",
    "| `csv_weights`              | Differentiates importance of instances for CSV input by taking the second column as instance weights.                                                          | Optional               | 0 or 1                                      | 0                                |\n",
    "| `deterministic_histogram`  | Builds histogram on GPU deterministically. Used only if `tree_method` is set to `gpu_hist`.                                                                     | Optional               | `\"true\"`, `\"false\"`                         | `\"true\"`                        |\n",
    "| `early_stopping_rounds`    | Stops training if validation score doesn't improve after specified rounds.                                                                                      | Optional               | Integer                                     | -                                |\n",
    "| `eta`                      | Step size shrinkage to prevent overfitting.                                                                                                                     | Optional               | Float, [0,1]                                | 0.3                              |\n",
    "| `eval_metric`              | Evaluation metric for validation data. Defaults depend on the `objective`.                                                                                      | Optional               | String                                      | Based on `objective`             |\n",
    "| `gamma`                    | Minimum loss reduction required for further partitioning.                                                                                                       | Optional               | Float, [0,∞)                                | 0                                |\n",
    "| `grow_policy`              | Controls how new nodes are added to the tree (`depthwise` or `lossguide`).                                                                                      | Optional               | `\"depthwise\"`, `\"lossguide\"`               | `\"depthwise\"`                   |\n",
    "| `interaction_constraints`  | Groups of variables allowed to interact.                                                                                                                        | Optional               | Nested list of integers                    | None                             |\n",
    "| `lambda`                   | L2 regularization term on weights.                                                                                                                              | Optional               | Float                                       | 1                                |\n",
    "| `lambda_bias`              | L2 regularization term on bias.                                                                                                                                 | Optional               | Float, [0.0, 1.0]                          | 0                                |\n",
    "| `max_bin`                  | Maximum number of bins for continuous features. Used with `tree_method=hist`.                                                                                   | Optional               | Integer                                     | 256                              |\n",
    "| `max_delta_step`           | Maximum delta step for weight estimation. Helps control updates in logistic regression.                                                                         | Optional               | Integer, [0,∞)                              | 0                                |\n",
    "| `max_depth`                | Maximum depth of trees. Increasing can cause overfitting.                                                                                                       | Optional               | Integer, [0,∞)                              | 6                                |\n",
    "| `max_leaves`               | Maximum number of nodes added when `grow_policy=lossguide`.                                                                                                     | Optional               | Integer                                     | 0                                |\n",
    "| `min_child_weight`         | Minimum sum of instance weight (hessian) needed in a child.                                                                                                     | Optional               | Float, [0,∞)                                | 1                                |\n",
    "| `monotone_constraints`     | Specifies monotonicity constraints on features.                                                                                                                 | Optional               | Tuple of integers (-1, 0, 1)               | (0, 0)                          |\n",
    "| `normalize_type`           | Type of normalization algorithm (`tree` or `forest`).                                                                                                          | Optional               | `\"tree\"`, `\"forest\"`                       | `\"tree\"`                        |\n",
    "| `nthread`                  | Number of parallel threads used by XGBoost.                                                                                                                     | Optional               | Integer                                     | Maximum threads                  |\n",
    "| `objective`                | Specifies the learning task and objective. Examples: `reg:squarederror`, `multi:softmax`.                                                                       | Optional               | String                                      | `\"reg:squarederror\"`             |\n",
    "| `one_drop`                 | Enables dropping at least one tree during dropout.                                                                                                             | Optional               | 0 or 1                                      | 0                                |\n",
    "| `process_type`             | Type of boosting process (`default` or `update`).                                                                                                              | Optional               | `\"default\"`, `\"update\"`                    | `\"default\"`                     |\n",
    "| `rate_drop`                | Dropout rate specifying fraction of trees to drop.                                                                                                              | Optional               | Float, [0.0, 1.0]                          | 0.0                              |\n",
    "| `refresh_leaf`             | Updates tree leaves and stats when enabled.                                                                                                                     | Optional               | 0 or 1                                      | 1                                |\n",
    "| `sample_type`              | Type of sampling algorithm (`uniform` or `weighted`).                                                                                                           | Optional               | `\"uniform\"`, `\"weighted\"`                  | `\"uniform\"`                     |\n",
    "| `scale_pos_weight`         | Balances positive and negative weights for unbalanced classes.                                                                                                  | Optional               | Float                                       | 1                                |\n",
    "| `seed`                     | Random number seed.                                                                                                                                             | Optional               | Integer                                     | 0                                |\n",
    "| `single_precision_histogram` | Uses single precision for histograms with `tree_method=hist` or `gpu_hist`.                                                                                    | Optional               | `\"true\"`, `\"false\"`                         | `\"false\"`                       |\n",
    "| `sketch_eps`               | Approximation for greedy algorithm.                                                                                                                             | Optional               | Float, [0, 1]                               | 0.03                             |\n",
    "| `skip_drop`                | Probability of skipping dropout during boosting.                                                                                                               | Optional               | Float, [0.0, 1.0]                          | 0.0                              |\n",
    "| `subsample`                | Subsample ratio of training instances.                                                                                                                          | Optional               | Float, [0,1]                                | 1                                |\n",
    "| `tree_method`              | Tree construction algorithm (`auto`, `exact`, `approx`, `hist`, `gpu_hist`).                                                                                    | Optional               | String                                      | `\"auto\"`                        |\n",
    "| `tweedie_variance_power`   | Controls variance of Tweedie distribution.                                                                                                                      | Optional               | Float, (1, 2)                               | 1.5                              |\n",
    "| `updater`                  | Comma-separated string defining tree updaters.                                                                                                                 | Optional               | String                                      | `\"grow_colmaker, prune\"`         |\n",
    "| `use_dask_gpu_training`    | Enables Dask-based distributed GPU training (for versions ≥ 1.5-1).                                                                                             | Optional               | `\"true\"`, `\"false\"`                         | `\"false\"`                       |\n",
    "| `verbosity`                | Verbosity level of printed messages (0: silent, 1: warning, 2: info, 3: debug).                                                                                 | Optional               | Integer                                     | 1                                |\n"
   ]
  },
  {
   "cell_type": "code",
   "execution_count": 35,
   "id": "602d216c",
   "metadata": {},
   "outputs": [],
   "source": [
    "hyperparameters = {\n",
    "        \"max_depth\":\"5\",\n",
    "        \"eta\":\"0.2\",\n",
    "        \"gamma\":\"4\",\n",
    "        \"min_child_weight\":\"6\",\n",
    "        \"subsample\":\"0.7\",\n",
    "        \"objective\":\"reg:squarederror\",\n",
    "        \"early_stopping_rounds\":10,\n",
    "        \"num_round\":1000,\n",
    "        }"
   ]
  },
  {
   "cell_type": "markdown",
   "id": "9910c393",
   "metadata": {},
   "source": [
    "# Set an output path where the model will be saved"
   ]
  },
  {
   "cell_type": "code",
   "execution_count": 32,
   "id": "9156af10",
   "metadata": {},
   "outputs": [
    {
     "name": "stdout",
     "output_type": "stream",
     "text": [
      "s3://manuelfinancebucket/xgboost algo on the go/output/\n"
     ]
    }
   ],
   "source": [
    "                                       #bucket name / prefix / output folder    \n",
    "output_path = 's3://{}/{}/{}/'.format(bucket_name, prefix, \"output\")\n",
    "print(output_path)"
   ]
  },
  {
   "cell_type": "markdown",
   "id": "3ed97328",
   "metadata": {},
   "source": [
    "# Construct an **Sagemaker Estimator** that calls **xgboost container**"
   ]
  },
  {
   "cell_type": "code",
   "execution_count": 36,
   "id": "e32783ca",
   "metadata": {},
   "outputs": [],
   "source": [
    "estimator = sagemaker.estimator.Estimator(image_uri=xgboost_container, \n",
    "                                          hyperparameters=hyperparameters,\n",
    "                                          role=sagemaker.get_execution_role(),\n",
    "                                          instance_count=1, \n",
    "                                          instance_type='ml.m4.xlarge', \n",
    "                                          volume_size=5, # 5 GB \n",
    "                                          output_path=output_path,\n",
    "                                         use_spot_instances = True,\n",
    "                                         max_run = 300,\n",
    "                                         max_wait = 600\n",
    "                                         )"
   ]
  },
  {
   "cell_type": "markdown",
   "id": "4c604597",
   "metadata": {},
   "source": [
    "# Define the data type and paths for the trainining and validation datasets"
   ]
  },
  {
   "cell_type": "code",
   "execution_count": 42,
   "id": "0b03a3f2",
   "metadata": {},
   "outputs": [],
   "source": [
    "content_type = \"csv\"\n",
    "train_input = TrainingInput(\"s3://{}/{}/{}/\".format(bucket_name, prefix, 'train'), content_type=content_type)\n",
    "test_input = TrainingInput(\"s3://{}/{}/{}/\".format(bucket_name, prefix, 'test'), content_type=content_type)"
   ]
  },
  {
   "cell_type": "markdown",
   "id": "a639941c",
   "metadata": {},
   "source": [
    "# Execute XGBoost Training"
   ]
  },
  {
   "cell_type": "code",
   "execution_count": 43,
   "id": "d825eda2",
   "metadata": {},
   "outputs": [
    {
     "name": "stderr",
     "output_type": "stream",
     "text": [
      "INFO:sagemaker:Creating training-job with name: sagemaker-xgboost-2024-11-19-17-49-50-146\n"
     ]
    },
    {
     "name": "stdout",
     "output_type": "stream",
     "text": [
      "2024-11-19 17:49:53 Starting - Starting the training job......\n",
      "2024-11-19 17:50:27 Starting - Preparing the instances for training...\n",
      "2024-11-19 17:51:03 Downloading - Downloading input data...\n",
      "2024-11-19 17:51:29 Downloading - Downloading the training image......\n",
      "2024-11-19 17:52:45 Training - Training image download completed. Training in progress..\u001b[34m[2024-11-19 17:52:56.840 ip-10-0-246-114.us-east-2.compute.internal:7 INFO utils.py:27] RULE_JOB_STOP_SIGNAL_FILENAME: None\u001b[0m\n",
      "\u001b[34m[2024-11-19:17:52:56:INFO] Imported framework sagemaker_xgboost_container.training\u001b[0m\n",
      "\u001b[34m[2024-11-19:17:52:56:INFO] Failed to parse hyperparameter objective value reg:squarederror to Json.\u001b[0m\n",
      "\u001b[34mReturning the value itself\u001b[0m\n",
      "\u001b[34m[2024-11-19:17:52:56:INFO] No GPUs detected (normal if no gpus installed)\u001b[0m\n",
      "\u001b[34m[2024-11-19:17:52:56:INFO] Running XGBoost Sagemaker in algorithm mode\u001b[0m\n",
      "\u001b[34m[2024-11-19:17:52:56:INFO] Determined delimiter of CSV input is ','\u001b[0m\n",
      "\u001b[34m[2024-11-19:17:52:56:INFO] Determined delimiter of CSV input is ','\u001b[0m\n",
      "\u001b[34m[2024-11-19:17:52:56:INFO] Determined delimiter of CSV input is ','\u001b[0m\n",
      "\u001b[34m[2024-11-19:17:52:56:INFO] Determined delimiter of CSV input is ','\u001b[0m\n",
      "\u001b[34m[2024-11-19:17:52:56:INFO] Single node training.\u001b[0m\n",
      "\u001b[34m[2024-11-19:17:52:56:INFO] Train matrix has 403 rows and 5 columns\u001b[0m\n",
      "\u001b[34m[2024-11-19:17:52:56:INFO] Validation matrix has 101 rows\u001b[0m\n",
      "\u001b[34m[2024-11-19 17:52:56.935 ip-10-0-246-114.us-east-2.compute.internal:7 INFO json_config.py:91] Creating hook from json_config at /opt/ml/input/config/debughookconfig.json.\u001b[0m\n",
      "\u001b[34m[2024-11-19 17:52:56.935 ip-10-0-246-114.us-east-2.compute.internal:7 INFO hook.py:201] tensorboard_dir has not been set for the hook. SMDebug will not be exporting tensorboard summaries.\u001b[0m\n",
      "\u001b[34m[2024-11-19 17:52:56.936 ip-10-0-246-114.us-east-2.compute.internal:7 INFO profiler_config_parser.py:102] User has disabled profiler.\u001b[0m\n",
      "\u001b[34m[2024-11-19 17:52:56.937 ip-10-0-246-114.us-east-2.compute.internal:7 INFO hook.py:255] Saving to /opt/ml/output/tensors\u001b[0m\n",
      "\u001b[34m[2024-11-19 17:52:56.937 ip-10-0-246-114.us-east-2.compute.internal:7 INFO state_store.py:77] The checkpoint config file /opt/ml/input/config/checkpointconfig.json does not exist.\u001b[0m\n",
      "\u001b[34m[2024-11-19:17:52:56:INFO] Debug hook created from config\u001b[0m\n",
      "\u001b[34m[0]#011train-rmse:63.08721#011validation-rmse:62.40741\u001b[0m\n",
      "\u001b[34m[2024-11-19 17:52:57.003 ip-10-0-246-114.us-east-2.compute.internal:7 INFO hook.py:423] Monitoring the collections: metrics\u001b[0m\n",
      "\u001b[34m[2024-11-19 17:52:57.006 ip-10-0-246-114.us-east-2.compute.internal:7 INFO hook.py:486] Hook is writing from the hook with pid: 7\u001b[0m\n",
      "\u001b[34m[1]#011train-rmse:50.79308#011validation-rmse:50.40719\u001b[0m\n",
      "\u001b[34m[2]#011train-rmse:40.95993#011validation-rmse:40.72905\u001b[0m\n",
      "\u001b[34m[3]#011train-rmse:32.98182#011validation-rmse:32.83210\u001b[0m\n",
      "\u001b[34m[4]#011train-rmse:26.66192#011validation-rmse:26.66708\u001b[0m\n",
      "\u001b[34m[5]#011train-rmse:21.47000#011validation-rmse:21.46492\u001b[0m\n",
      "\u001b[34m[6]#011train-rmse:17.31814#011validation-rmse:17.27801\u001b[0m\n",
      "\u001b[34m[7]#011train-rmse:13.98433#011validation-rmse:14.03907\u001b[0m\n",
      "\u001b[34m[8]#011train-rmse:11.29696#011validation-rmse:11.39701\u001b[0m\n",
      "\u001b[34m[9]#011train-rmse:9.14124#011validation-rmse:9.27116\u001b[0m\n",
      "\u001b[34m[10]#011train-rmse:7.40007#011validation-rmse:7.54610\u001b[0m\n",
      "\u001b[34m[11]#011train-rmse:5.99623#011validation-rmse:6.11141\u001b[0m\n",
      "\u001b[34m[12]#011train-rmse:4.90781#011validation-rmse:5.05096\u001b[0m\n",
      "\u001b[34m[13]#011train-rmse:4.01384#011validation-rmse:4.16479\u001b[0m\n",
      "\u001b[34m[14]#011train-rmse:3.28732#011validation-rmse:3.39999\u001b[0m\n",
      "\u001b[34m[15]#011train-rmse:2.69773#011validation-rmse:2.79596\u001b[0m\n",
      "\u001b[34m[16]#011train-rmse:2.21473#011validation-rmse:2.26991\u001b[0m\n",
      "\u001b[34m[17]#011train-rmse:1.84322#011validation-rmse:1.89139\u001b[0m\n",
      "\u001b[34m[18]#011train-rmse:1.55590#011validation-rmse:1.60671\u001b[0m\n",
      "\u001b[34m[19]#011train-rmse:1.31617#011validation-rmse:1.35808\u001b[0m\n",
      "\u001b[34m[20]#011train-rmse:1.12999#011validation-rmse:1.15257\u001b[0m\n",
      "\u001b[34m[21]#011train-rmse:0.98035#011validation-rmse:0.98998\u001b[0m\n",
      "\u001b[34m[22]#011train-rmse:0.88154#011validation-rmse:0.89018\u001b[0m\n",
      "\u001b[34m[23]#011train-rmse:0.80606#011validation-rmse:0.84470\u001b[0m\n",
      "\u001b[34m[24]#011train-rmse:0.74209#011validation-rmse:0.77701\u001b[0m\n",
      "\u001b[34m[25]#011train-rmse:0.70004#011validation-rmse:0.74071\u001b[0m\n",
      "\u001b[34m[26]#011train-rmse:0.68453#011validation-rmse:0.73491\u001b[0m\n",
      "\u001b[34m[27]#011train-rmse:0.65839#011validation-rmse:0.72056\u001b[0m\n",
      "\u001b[34m[28]#011train-rmse:0.64239#011validation-rmse:0.71405\u001b[0m\n",
      "\u001b[34m[29]#011train-rmse:0.63801#011validation-rmse:0.71547\u001b[0m\n",
      "\u001b[34m[30]#011train-rmse:0.62864#011validation-rmse:0.72477\u001b[0m\n",
      "\u001b[34m[31]#011train-rmse:0.62432#011validation-rmse:0.72671\u001b[0m\n",
      "\u001b[34m[32]#011train-rmse:0.62258#011validation-rmse:0.72878\u001b[0m\n",
      "\u001b[34m[33]#011train-rmse:0.61243#011validation-rmse:0.72947\u001b[0m\n",
      "\u001b[34m[34]#011train-rmse:0.61208#011validation-rmse:0.73017\u001b[0m\n",
      "\u001b[34m[35]#011train-rmse:0.61186#011validation-rmse:0.73068\u001b[0m\n",
      "\u001b[34m[36]#011train-rmse:0.59772#011validation-rmse:0.70706\u001b[0m\n",
      "\u001b[34m[37]#011train-rmse:0.59749#011validation-rmse:0.70794\u001b[0m\n",
      "\u001b[34m[38]#011train-rmse:0.59419#011validation-rmse:0.70556\u001b[0m\n",
      "\u001b[34m[39]#011train-rmse:0.59393#011validation-rmse:0.70682\u001b[0m\n",
      "\u001b[34m[40]#011train-rmse:0.59379#011validation-rmse:0.70779\u001b[0m\n",
      "\u001b[34m[41]#011train-rmse:0.59369#011validation-rmse:0.70882\u001b[0m\n",
      "\u001b[34m[42]#011train-rmse:0.58782#011validation-rmse:0.70660\u001b[0m\n",
      "\u001b[34m[43]#011train-rmse:0.58780#011validation-rmse:0.70678\u001b[0m\n",
      "\u001b[34m[44]#011train-rmse:0.58772#011validation-rmse:0.70772\u001b[0m\n",
      "\u001b[34m[45]#011train-rmse:0.57782#011validation-rmse:0.71564\u001b[0m\n",
      "\u001b[34m[46]#011train-rmse:0.57780#011validation-rmse:0.71591\u001b[0m\n",
      "\u001b[34m[47]#011train-rmse:0.57323#011validation-rmse:0.70891\u001b[0m\n",
      "\u001b[34m[48]#011train-rmse:0.57318#011validation-rmse:0.70951\u001b[0m\n",
      "\n",
      "2024-11-19 17:53:18 Uploading - Uploading generated training model\n",
      "2024-11-19 17:53:18 Completed - Training job completed\n",
      "Training seconds: 135\n",
      "Billable seconds: 52\n",
      "Managed Spot Training savings: 61.5%\n"
     ]
    }
   ],
   "source": [
    "estimator.fit({'train': train_input, 'validation': test_input})"
   ]
  },
  {
   "cell_type": "markdown",
   "id": "8603c0bf",
   "metadata": {},
   "source": [
    "# Deploy Trained XGBoost Model as Endpoint\n",
    "- Environment\n",
    "    - Inside Sagemaker: Serialization by User\n",
    "    - **Outside Sagemaker: Serialization by Endpoint**\n",
    "| **Scenario**         | **Who Handles Serialization?**                              | **Example Format** |\n",
    "|-----------------------|------------------------------------------------------------|--------------------|\n",
    "| **Inside SageMaker**  | User must serialize data into a format like LibSVM, JSON, or CSV. | LibSVM            |\n",
    "| **Outside SageMaker** | Endpoint automatically serializes input data.              | JSON, CSV          |\n",
    "\n",
    "- Method to invoke endpoint\n",
    "    - **API (single prediction)**\n",
    "    - S3 (Batch prediction)\n",
    "    \n",
    "- Data type based on method\n",
    "    - **API (JSON)**\n",
    "    - s3 (CSV)\n",
    "  "
   ]
  },
  {
   "cell_type": "markdown",
   "id": "1eb085b8",
   "metadata": {},
   "source": [
    "### To host a model in EC2 call deploy method of the xgb_model estimator\n",
    "initial_instance_count(int) - The number of instances to deploy the model\n",
    "instance_type(str) - The type of instances that you want to operate your deployed model\n",
    "serializer(int) - Serialize input data of various formats (a Numpy array, list, file, or buffer) to a csv formatted string. We use this because the XGBosost algorithm acceps input files in CSV format\n"
   ]
  },
  {
   "cell_type": "code",
   "execution_count": 45,
   "id": "7156c113",
   "metadata": {},
   "outputs": [
    {
     "name": "stderr",
     "output_type": "stream",
     "text": [
      "INFO:sagemaker:Creating model with name: sagemaker-xgboost-2024-11-19-22-02-02-602\n",
      "INFO:sagemaker:Creating endpoint-config with name sagemaker-xgboost-2024-11-19-22-02-02-602\n",
      "INFO:sagemaker:Creating endpoint with name sagemaker-xgboost-2024-11-19-22-02-02-602\n"
     ]
    },
    {
     "name": "stdout",
     "output_type": "stream",
     "text": [
      "------!"
     ]
    }
   ],
   "source": [
    "from sagemaker.serializers import CSVSerializer\n",
    "\n",
    "xgb_predictor = estimator.deploy(initial_instance_count=1, instance_type='ml.m4.xlarge',serializer=CSVSerializer())"
   ]
  },
  {
   "cell_type": "code",
   "execution_count": 46,
   "id": "53e21759",
   "metadata": {},
   "outputs": [
    {
     "data": {
      "text/plain": [
       "'sagemaker-xgboost-2024-11-19-22-02-02-602'"
      ]
     },
     "execution_count": 46,
     "metadata": {},
     "output_type": "execute_result"
    }
   ],
   "source": [
    "xgb_predictor.endpoint_name"
   ]
  },
  {
   "cell_type": "markdown",
   "id": "68403805",
   "metadata": {},
   "source": [
    "# Make a prediction using endpoints"
   ]
  },
  {
   "cell_type": "code",
   "execution_count": 49,
   "id": "01d396bf",
   "metadata": {},
   "outputs": [
    {
     "name": "stderr",
     "output_type": "stream",
     "text": [
      "[*********************100%***********************]  1 of 1 completed\n"
     ]
    },
    {
     "data": {
      "text/html": [
       "<div>\n",
       "<style scoped>\n",
       "    .dataframe tbody tr th:only-of-type {\n",
       "        vertical-align: middle;\n",
       "    }\n",
       "\n",
       "    .dataframe tbody tr th {\n",
       "        vertical-align: top;\n",
       "    }\n",
       "\n",
       "    .dataframe thead tr th {\n",
       "        text-align: left;\n",
       "    }\n",
       "</style>\n",
       "<table border=\"1\" class=\"dataframe\">\n",
       "  <thead>\n",
       "    <tr>\n",
       "      <th>Price</th>\n",
       "      <th>Date</th>\n",
       "      <th>Adj Close</th>\n",
       "      <th>Close</th>\n",
       "      <th>High</th>\n",
       "      <th>Low</th>\n",
       "      <th>Open</th>\n",
       "      <th>Volume</th>\n",
       "    </tr>\n",
       "    <tr>\n",
       "      <th>Ticker</th>\n",
       "      <th></th>\n",
       "      <th>AAPL</th>\n",
       "      <th>AAPL</th>\n",
       "      <th>AAPL</th>\n",
       "      <th>AAPL</th>\n",
       "      <th>AAPL</th>\n",
       "      <th>AAPL</th>\n",
       "    </tr>\n",
       "  </thead>\n",
       "  <tbody>\n",
       "    <tr>\n",
       "      <th>0</th>\n",
       "      <td>2021-01-04 00:00:00+00:00</td>\n",
       "      <td>126.544243</td>\n",
       "      <td>129.410004</td>\n",
       "      <td>133.610001</td>\n",
       "      <td>126.760002</td>\n",
       "      <td>133.520004</td>\n",
       "      <td>143301900</td>\n",
       "    </tr>\n",
       "  </tbody>\n",
       "</table>\n",
       "</div>"
      ],
      "text/plain": [
       "Price                       Date   Adj Close       Close        High  \\\n",
       "Ticker                                  AAPL        AAPL        AAPL   \n",
       "0      2021-01-04 00:00:00+00:00  126.544243  129.410004  133.610001   \n",
       "\n",
       "Price          Low        Open     Volume  \n",
       "Ticker        AAPL        AAPL       AAPL  \n",
       "0       126.760002  133.520004  143301900  "
      ]
     },
     "execution_count": 49,
     "metadata": {},
     "output_type": "execute_result"
    }
   ],
   "source": [
    "# start with parameters\n",
    "start_date = datetime(2021,1,4)\n",
    "end_date = datetime(2021,1,5)\n",
    "\n",
    "#get the data\n",
    "df = yf.download('AAPL', start = start_date, end = end_date)\n",
    "df.reset_index(inplace=True)\n",
    "df"
   ]
  },
  {
   "cell_type": "code",
   "execution_count": 51,
   "id": "cc3f1209",
   "metadata": {},
   "outputs": [
    {
     "name": "stderr",
     "output_type": "stream",
     "text": [
      "/tmp/ipykernel_8593/599336121.py:1: PerformanceWarning: dropping on a non-lexsorted multi-index without a level parameter may impact performance.\n",
      "  df.drop(axis=1, columns=['Adj Close'], inplace=True)\n",
      "/tmp/ipykernel_8593/599336121.py:2: PerformanceWarning: dropping on a non-lexsorted multi-index without a level parameter may impact performance.\n",
      "  df.drop(axis=1, columns=['Date'], inplace=True)\n"
     ]
    },
    {
     "data": {
      "text/plain": [
       "array([[1.29410004e+02, 1.33610001e+02, 1.26760002e+02, 1.33520004e+02,\n",
       "        1.43301900e+08]])"
      ]
     },
     "execution_count": 51,
     "metadata": {},
     "output_type": "execute_result"
    }
   ],
   "source": [
    "df.drop(axis=1, columns=['Adj Close'], inplace=True)\n",
    "df.drop(axis=1, columns=['Date'], inplace=True)\n",
    "data_features_array = df.values\n",
    "data_features_array"
   ]
  },
  {
   "cell_type": "markdown",
   "id": "327c82cb",
   "metadata": {},
   "source": [
    "# Serialize data"
   ]
  },
  {
   "cell_type": "code",
   "execution_count": 52,
   "id": "02222c13",
   "metadata": {},
   "outputs": [
    {
     "name": "stdout",
     "output_type": "stream",
     "text": [
      "131.77243041992188\n",
      " <class 'str'>\n"
     ]
    }
   ],
   "source": [
    "Y_pred_Fcn = xgb_predictor.predict(data_features_array).decode('utf-8')\n",
    "print(Y_pred_Fcn, type(Y_pred_Fcn))"
   ]
  },
  {
   "cell_type": "markdown",
   "id": "7ce35b13",
   "metadata": {},
   "source": [
    "# Lambda function handler"
   ]
  },
  {
   "cell_type": "code",
   "execution_count": 58,
   "id": "138cefa4",
   "metadata": {},
   "outputs": [
    {
     "data": {
      "text/plain": [
       "['131.77243041992188\\n', '131.77243041992188\\n', '131.77243041992188\\n']"
      ]
     },
     "execution_count": 58,
     "metadata": {},
     "output_type": "execute_result"
    }
   ],
   "source": [
    "import boto3\n",
    "ENDPOINT_NAME = 'sagemaker-xgboost-2024-11-19-22-02-02-602'\n",
    "runtime = boto3.client('runtime.sagemaker')\n",
    "def lambda_handler(event, context):\n",
    "    inputs = event['data']\n",
    "    result = []\n",
    "    for input in inputs:\n",
    "        serialized_input = ','.join(map(str, input))\n",
    "        response = runtime.invoke_endpoint(EndpointName = ENDPOINT_NAME,\n",
    "                                      ContentType='text/csv',\n",
    "                                      Body=serialized_input)\n",
    "        result.append(response['Body'].read().decode())\n",
    "    \n",
    "    return result"
   ]
  },
  {
   "cell_type": "code",
   "execution_count": null,
   "id": "90529a1e",
   "metadata": {},
   "outputs": [],
   "source": [
    "\n",
    "Input_json = { 'data':\n",
    "        [[1.29410004e+02, 1.33610001e+02, 1.26760002e+02, 1.33520004e+02,\n",
    "        1.43301900e+08],[1.29410004e+02, 1.33610001e+02, 1.26760002e+02, 1.33520004e+02,\n",
    "        1.43301900e+08],[1.29410004e+02, 1.33610001e+02, 1.26760002e+02, 1.33520004e+02,\n",
    "        1.43301900e+08]] \n",
    "}\n",
    "result = lambda_handler(Input_json, __)\n",
    "result"
   ]
  },
  {
   "cell_type": "markdown",
   "id": "1362951a",
   "metadata": {},
   "source": [
    "# Requests API\n"
   ]
  },
  {
   "cell_type": "code",
   "execution_count": 59,
   "id": "739f25b9",
   "metadata": {},
   "outputs": [],
   "source": [
    "import requests\n",
    "\n",
    "API_ENDPOINT = \"https://j5nhs5qh13.execute-api.us-east-2.amazonaws.com/xgboostmodel\"\n",
    "\n",
    "#data to be sent\n",
    "json = {\"data\":\n",
    "[[1.29410004e+02, 1.33610001e+02, 1.26760002e+02, 1.33520004e+02,\n",
    "        1.43301900e+08],[1.29410004e+02, 1.33610001e+02, 1.26760002e+02, 1.33520004e+02,\n",
    "        1.43301900e+08],[1.29410004e+02, 1.33610001e+02, 1.26760002e+02, 1.33520004e+02,\n",
    "        1.43301900e+08]]\n",
    "}\n",
    "\n",
    "r = requests.post(url = API_ENDPOINT, json = json)"
   ]
  },
  {
   "cell_type": "markdown",
   "id": "3ccd6e37",
   "metadata": {},
   "source": [
    "## with the lambda integration, the lambda function output is returned as a 200 OK response"
   ]
  },
  {
   "cell_type": "code",
   "execution_count": 60,
   "id": "40f2fcae",
   "metadata": {},
   "outputs": [
    {
     "name": "stdout",
     "output_type": "stream",
     "text": [
      "Status Code: 200, Response: ['131.77243041992188\\n', '131.77243041992188\\n', '131.77243041992188\\n']\n"
     ]
    }
   ],
   "source": [
    "print(f\"Status Code: {r.status_code}, Response: {r.json()}\")"
   ]
  }
 ],
 "metadata": {
  "kernelspec": {
   "display_name": "conda_python3",
   "language": "python",
   "name": "conda_python3"
  },
  "language_info": {
   "codemirror_mode": {
    "name": "ipython",
    "version": 3
   },
   "file_extension": ".py",
   "mimetype": "text/x-python",
   "name": "python",
   "nbconvert_exporter": "python",
   "pygments_lexer": "ipython3",
   "version": "3.10.15"
  }
 },
 "nbformat": 4,
 "nbformat_minor": 5
}
